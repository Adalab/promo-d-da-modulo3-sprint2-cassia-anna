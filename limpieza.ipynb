{
 "cells": [
  {
   "cell_type": "code",
   "execution_count": 2,
   "metadata": {},
   "outputs": [],
   "source": [
    "import pandas as pd\n"
   ]
  },
  {
   "cell_type": "code",
   "execution_count": 3,
   "metadata": {},
   "outputs": [
    {
     "name": "stderr",
     "output_type": "stream",
     "text": [
      "/tmp/ipykernel_1298/2853778016.py:1: DtypeWarning: Columns (44,62,63) have mixed types. Specify dtype option on import or set low_memory=False.\n",
      "  df_airbnb = pd.read_csv('datos/barcelona_airbnb.csv', index_col=0)\n"
     ]
    },
    {
     "data": {
      "text/html": [
       "<div>\n",
       "<style scoped>\n",
       "    .dataframe tbody tr th:only-of-type {\n",
       "        vertical-align: middle;\n",
       "    }\n",
       "\n",
       "    .dataframe tbody tr th {\n",
       "        vertical-align: top;\n",
       "    }\n",
       "\n",
       "    .dataframe thead th {\n",
       "        text-align: right;\n",
       "    }\n",
       "</style>\n",
       "<table border=\"1\" class=\"dataframe\">\n",
       "  <thead>\n",
       "    <tr style=\"text-align: right;\">\n",
       "      <th></th>\n",
       "      <th>id</th>\n",
       "      <th>listing_url</th>\n",
       "      <th>scrape_id</th>\n",
       "      <th>last_scraped</th>\n",
       "      <th>name</th>\n",
       "      <th>summary</th>\n",
       "      <th>space</th>\n",
       "      <th>description</th>\n",
       "      <th>experiences_offered</th>\n",
       "      <th>neighborhood_overview</th>\n",
       "      <th>...</th>\n",
       "      <th>instant_bookable</th>\n",
       "      <th>is_business_travel_ready</th>\n",
       "      <th>cancellation_policy</th>\n",
       "      <th>require_guest_profile_picture</th>\n",
       "      <th>require_guest_phone_verification</th>\n",
       "      <th>calculated_host_listings_count</th>\n",
       "      <th>calculated_host_listings_count_entire_homes</th>\n",
       "      <th>calculated_host_listings_count_private_rooms</th>\n",
       "      <th>calculated_host_listings_count_shared_rooms</th>\n",
       "      <th>reviews_per_month</th>\n",
       "    </tr>\n",
       "    <tr>\n",
       "      <th>index</th>\n",
       "      <th></th>\n",
       "      <th></th>\n",
       "      <th></th>\n",
       "      <th></th>\n",
       "      <th></th>\n",
       "      <th></th>\n",
       "      <th></th>\n",
       "      <th></th>\n",
       "      <th></th>\n",
       "      <th></th>\n",
       "      <th></th>\n",
       "      <th></th>\n",
       "      <th></th>\n",
       "      <th></th>\n",
       "      <th></th>\n",
       "      <th></th>\n",
       "      <th></th>\n",
       "      <th></th>\n",
       "      <th></th>\n",
       "      <th></th>\n",
       "      <th></th>\n",
       "    </tr>\n",
       "  </thead>\n",
       "  <tbody>\n",
       "    <tr>\n",
       "      <th>0</th>\n",
       "      <td>18666</td>\n",
       "      <td>https://www.airbnb.com/rooms/18666</td>\n",
       "      <td>20190710134514</td>\n",
       "      <td>2019-07-10</td>\n",
       "      <td>Flat with Sunny Terrace</td>\n",
       "      <td>Apartment located near the \"Plaza de las Glori...</td>\n",
       "      <td>Nice apartment situated on the penthouse floor...</td>\n",
       "      <td>Apartment located near the \"Plaza de las Glori...</td>\n",
       "      <td>none</td>\n",
       "      <td>Apartment in Barcelona near to the Plaza de la...</td>\n",
       "      <td>...</td>\n",
       "      <td>f</td>\n",
       "      <td>f</td>\n",
       "      <td>flexible</td>\n",
       "      <td>f</td>\n",
       "      <td>f</td>\n",
       "      <td>31</td>\n",
       "      <td>31</td>\n",
       "      <td>0</td>\n",
       "      <td>0</td>\n",
       "      <td>0.02</td>\n",
       "    </tr>\n",
       "    <tr>\n",
       "      <th>1</th>\n",
       "      <td>18674</td>\n",
       "      <td>https://www.airbnb.com/rooms/18674</td>\n",
       "      <td>20190710134514</td>\n",
       "      <td>2019-07-10</td>\n",
       "      <td>Huge flat for 8 people close to Sagrada Familia</td>\n",
       "      <td>110m2 apartment to rent in Barcelona. Located ...</td>\n",
       "      <td>Apartment with 110 m2 located in the 6th floor...</td>\n",
       "      <td>110m2 apartment to rent in Barcelona. Located ...</td>\n",
       "      <td>none</td>\n",
       "      <td>Apartment in Barcelona located in the heart of...</td>\n",
       "      <td>...</td>\n",
       "      <td>t</td>\n",
       "      <td>f</td>\n",
       "      <td>strict_14_with_grace_period</td>\n",
       "      <td>f</td>\n",
       "      <td>f</td>\n",
       "      <td>31</td>\n",
       "      <td>31</td>\n",
       "      <td>0</td>\n",
       "      <td>0</td>\n",
       "      <td>0.20</td>\n",
       "    </tr>\n",
       "  </tbody>\n",
       "</table>\n",
       "<p>2 rows × 106 columns</p>\n",
       "</div>"
      ],
      "text/plain": [
       "          id                         listing_url       scrape_id last_scraped  \\\n",
       "index                                                                           \n",
       "0      18666  https://www.airbnb.com/rooms/18666  20190710134514   2019-07-10   \n",
       "1      18674  https://www.airbnb.com/rooms/18674  20190710134514   2019-07-10   \n",
       "\n",
       "                                                  name  \\\n",
       "index                                                    \n",
       "0                              Flat with Sunny Terrace   \n",
       "1      Huge flat for 8 people close to Sagrada Familia   \n",
       "\n",
       "                                                 summary  \\\n",
       "index                                                      \n",
       "0      Apartment located near the \"Plaza de las Glori...   \n",
       "1      110m2 apartment to rent in Barcelona. Located ...   \n",
       "\n",
       "                                                   space  \\\n",
       "index                                                      \n",
       "0      Nice apartment situated on the penthouse floor...   \n",
       "1      Apartment with 110 m2 located in the 6th floor...   \n",
       "\n",
       "                                             description experiences_offered  \\\n",
       "index                                                                          \n",
       "0      Apartment located near the \"Plaza de las Glori...                none   \n",
       "1      110m2 apartment to rent in Barcelona. Located ...                none   \n",
       "\n",
       "                                   neighborhood_overview  ...  \\\n",
       "index                                                     ...   \n",
       "0      Apartment in Barcelona near to the Plaza de la...  ...   \n",
       "1      Apartment in Barcelona located in the heart of...  ...   \n",
       "\n",
       "      instant_bookable is_business_travel_ready          cancellation_policy  \\\n",
       "index                                                                          \n",
       "0                    f                        f                     flexible   \n",
       "1                    t                        f  strict_14_with_grace_period   \n",
       "\n",
       "      require_guest_profile_picture require_guest_phone_verification  \\\n",
       "index                                                                  \n",
       "0                                 f                                f   \n",
       "1                                 f                                f   \n",
       "\n",
       "       calculated_host_listings_count  \\\n",
       "index                                   \n",
       "0                                  31   \n",
       "1                                  31   \n",
       "\n",
       "       calculated_host_listings_count_entire_homes  \\\n",
       "index                                                \n",
       "0                                               31   \n",
       "1                                               31   \n",
       "\n",
       "      calculated_host_listings_count_private_rooms  \\\n",
       "index                                                \n",
       "0                                                0   \n",
       "1                                                0   \n",
       "\n",
       "       calculated_host_listings_count_shared_rooms  reviews_per_month  \n",
       "index                                                                  \n",
       "0                                                0               0.02  \n",
       "1                                                0               0.20  \n",
       "\n",
       "[2 rows x 106 columns]"
      ]
     },
     "execution_count": 3,
     "metadata": {},
     "output_type": "execute_result"
    }
   ],
   "source": [
    "df_airbnb = pd.read_csv('datos/barcelona_airbnb.csv', index_col=0)\n",
    "df_airbnb.head(2)"
   ]
  },
  {
   "cell_type": "code",
   "execution_count": 5,
   "metadata": {},
   "outputs": [
    {
     "data": {
      "text/plain": [
       "la Dreta de l'Eixample                   2089\n",
       "el Raval                                 1629\n",
       "el Barri Gòtic                           1336\n",
       "Sant Pere, Santa Caterina i la Ribera    1161\n",
       "l'Antiga Esquerra de l'Eixample          1134\n",
       "                                         ... \n",
       "la Trinitat Nova                            7\n",
       "Torre Baró                                  4\n",
       "Canyelles                                   3\n",
       "Baró de Viver                               1\n",
       "Can Peguera                                 1\n",
       "Name: neighbourhood_cleansed, Length: 71, dtype: int64"
      ]
     },
     "execution_count": 5,
     "metadata": {},
     "output_type": "execute_result"
    }
   ],
   "source": [
    "df_airbnb['neighbourhood_cleansed'].value_counts()"
   ]
  },
  {
   "cell_type": "code",
   "execution_count": 6,
   "metadata": {},
   "outputs": [
    {
     "data": {
      "text/plain": [
       "Eixample               6622\n",
       "Ciutat Vella           4559\n",
       "Sants-Montjuïc         2302\n",
       "Sant Martí             2195\n",
       "Gràcia                 1710\n",
       "Sarrià-Sant Gervasi     778\n",
       "Horta-Guinardó          645\n",
       "Les Corts               434\n",
       "Sant Andreu             345\n",
       "Nou Barris              243\n",
       "Name: neighbourhood_group_cleansed, dtype: int64"
      ]
     },
     "execution_count": 6,
     "metadata": {},
     "output_type": "execute_result"
    }
   ],
   "source": [
    "df_airbnb['neighbourhood_group_cleansed'].value_counts()"
   ]
  },
  {
   "cell_type": "code",
   "execution_count": 7,
   "metadata": {},
   "outputs": [
    {
     "data": {
      "text/html": [
       "<div>\n",
       "<style scoped>\n",
       "    .dataframe tbody tr th:only-of-type {\n",
       "        vertical-align: middle;\n",
       "    }\n",
       "\n",
       "    .dataframe tbody tr th {\n",
       "        vertical-align: top;\n",
       "    }\n",
       "\n",
       "    .dataframe thead th {\n",
       "        text-align: right;\n",
       "    }\n",
       "</style>\n",
       "<table border=\"1\" class=\"dataframe\">\n",
       "  <thead>\n",
       "    <tr style=\"text-align: right;\">\n",
       "      <th></th>\n",
       "      <th>Trimester</th>\n",
       "      <th>District</th>\n",
       "      <th>Neighbourhood</th>\n",
       "      <th>Average _rent</th>\n",
       "      <th>Price</th>\n",
       "    </tr>\n",
       "    <tr>\n",
       "      <th>Year</th>\n",
       "      <th></th>\n",
       "      <th></th>\n",
       "      <th></th>\n",
       "      <th></th>\n",
       "      <th></th>\n",
       "    </tr>\n",
       "  </thead>\n",
       "  <tbody>\n",
       "    <tr>\n",
       "      <th>2014</th>\n",
       "      <td>1</td>\n",
       "      <td>Ciutat Vella</td>\n",
       "      <td>el Raval</td>\n",
       "      <td>average rent (euro/month)</td>\n",
       "      <td>589.55</td>\n",
       "    </tr>\n",
       "    <tr>\n",
       "      <th>2014</th>\n",
       "      <td>1</td>\n",
       "      <td>Ciutat Vella</td>\n",
       "      <td>Gothic Quarter</td>\n",
       "      <td>average rent (euro/month)</td>\n",
       "      <td>712.79</td>\n",
       "    </tr>\n",
       "  </tbody>\n",
       "</table>\n",
       "</div>"
      ],
      "text/plain": [
       "      Trimester      District   Neighbourhood              Average _rent  \\\n",
       "Year                                                                       \n",
       "2014          1  Ciutat Vella        el Raval  average rent (euro/month)   \n",
       "2014          1  Ciutat Vella  Gothic Quarter  average rent (euro/month)   \n",
       "\n",
       "       Price  \n",
       "Year          \n",
       "2014  589.55  \n",
       "2014  712.79  "
      ]
     },
     "execution_count": 7,
     "metadata": {},
     "output_type": "execute_result"
    }
   ],
   "source": [
    "df_rent = pd.read_csv('datos/Barcelona_rent_price.csv', index_col=0)\n",
    "df_rent.head(2)"
   ]
  },
  {
   "cell_type": "code",
   "execution_count": 8,
   "metadata": {},
   "outputs": [
    {
     "data": {
      "text/plain": [
       "Nou Barris             714\n",
       "Horta-Guinardo         682\n",
       "Sant Marti             680\n",
       "Sants-Montjuic         486\n",
       "Sant Andreu            428\n",
       "Eixample               408\n",
       "Sarria-Sant Gervasi    408\n",
       "Gracia                 340\n",
       "Ciutat Vella           272\n",
       "Les Corts              204\n",
       "Name: District, dtype: int64"
      ]
     },
     "execution_count": 8,
     "metadata": {},
     "output_type": "execute_result"
    }
   ],
   "source": [
    "df_rent['District'].value_counts()"
   ]
  },
  {
   "cell_type": "code",
   "execution_count": 10,
   "metadata": {},
   "outputs": [
    {
     "data": {
      "text/plain": [
       "array(['Sant Martí', 'Eixample', 'Gràcia', 'Horta-Guinardó', 'Les Corts',\n",
       "       'Ciutat Vella', 'Sants-Montjuïc', 'Sarrià-Sant Gervasi',\n",
       "       'Nou Barris', 'Sant Andreu'], dtype=object)"
      ]
     },
     "execution_count": 10,
     "metadata": {},
     "output_type": "execute_result"
    }
   ],
   "source": [
    "lista_districs = df_airbnb['neighbourhood_group_cleansed'].unique()\n",
    "lista_districs"
   ]
  },
  {
   "cell_type": "code",
   "execution_count": 11,
   "metadata": {},
   "outputs": [],
   "source": [
    "diccionario_mapa = {}\n",
    "for i in lista_districs:\n",
    "    diccionario_mapa[i] = ''"
   ]
  },
  {
   "cell_type": "code",
   "execution_count": 12,
   "metadata": {},
   "outputs": [
    {
     "data": {
      "text/plain": [
       "{'Sant Martí': '',\n",
       " 'Eixample': '',\n",
       " 'Gràcia': '',\n",
       " 'Horta-Guinardó': '',\n",
       " 'Les Corts': '',\n",
       " 'Ciutat Vella': '',\n",
       " 'Sants-Montjuïc': '',\n",
       " 'Sarrià-Sant Gervasi': '',\n",
       " 'Nou Barris': '',\n",
       " 'Sant Andreu': ''}"
      ]
     },
     "execution_count": 12,
     "metadata": {},
     "output_type": "execute_result"
    }
   ],
   "source": [
    "diccionario_mapa"
   ]
  },
  {
   "cell_type": "code",
   "execution_count": 13,
   "metadata": {},
   "outputs": [],
   "source": [
    "mapa_districts = {'Sant Martí': 'Sant Marti',\n",
    "                'Eixample': 'Eixample',\n",
    "                'Gràcia': 'Gracia',\n",
    "                'Horta-Guinardó': 'Horta-Guinardo',\n",
    "                'Les Corts': 'Les Corts',\n",
    "                'Ciutat Vella': 'Ciutat Vella',\n",
    "                'Sants-Montjuïc': 'Sants-Montjuic',\n",
    "                'Sarrià-Sant Gervasi': 'Sarria-Sant Gervasi',\n",
    "                'Nou Barris': 'Nou Barris',\n",
    "                'Sant Andreu': 'Sant Andreu'}"
   ]
  },
  {
   "cell_type": "code",
   "execution_count": 19,
   "metadata": {},
   "outputs": [
    {
     "data": {
      "text/plain": [
       "{'Sant Marti': 'Sant Martí',\n",
       " 'Eixample': 'Eixample',\n",
       " 'Gracia': 'Gràcia',\n",
       " 'Horta-Guinardo': 'Horta-Guinardó',\n",
       " 'Les Corts': 'Les Corts',\n",
       " 'Ciutat Vella': 'Ciutat Vella',\n",
       " 'Sants-Montjuic': 'Sants-Montjuïc',\n",
       " 'Sarria-Sant Gervasi': 'Sarrià-Sant Gervasi',\n",
       " 'Nou Barris': 'Nou Barris',\n",
       " 'Sant Andreu': 'Sant Andreu'}"
      ]
     },
     "execution_count": 19,
     "metadata": {},
     "output_type": "execute_result"
    }
   ],
   "source": [
    "diccionario_mapa_reves = {}\n",
    "for k, v in mapa_districts.items():\n",
    "    diccionario_mapa_reves[v] = k\n",
    "\n",
    "diccionario_mapa_reves"
   ]
  },
  {
   "cell_type": "code",
   "execution_count": 14,
   "metadata": {},
   "outputs": [
    {
     "data": {
      "text/html": [
       "<div>\n",
       "<style scoped>\n",
       "    .dataframe tbody tr th:only-of-type {\n",
       "        vertical-align: middle;\n",
       "    }\n",
       "\n",
       "    .dataframe tbody tr th {\n",
       "        vertical-align: top;\n",
       "    }\n",
       "\n",
       "    .dataframe thead th {\n",
       "        text-align: right;\n",
       "    }\n",
       "</style>\n",
       "<table border=\"1\" class=\"dataframe\">\n",
       "  <thead>\n",
       "    <tr style=\"text-align: right;\">\n",
       "      <th></th>\n",
       "      <th>id</th>\n",
       "      <th>listing_url</th>\n",
       "      <th>scrape_id</th>\n",
       "      <th>last_scraped</th>\n",
       "      <th>name</th>\n",
       "      <th>summary</th>\n",
       "      <th>space</th>\n",
       "      <th>description</th>\n",
       "      <th>experiences_offered</th>\n",
       "      <th>neighborhood_overview</th>\n",
       "      <th>...</th>\n",
       "      <th>instant_bookable</th>\n",
       "      <th>is_business_travel_ready</th>\n",
       "      <th>cancellation_policy</th>\n",
       "      <th>require_guest_profile_picture</th>\n",
       "      <th>require_guest_phone_verification</th>\n",
       "      <th>calculated_host_listings_count</th>\n",
       "      <th>calculated_host_listings_count_entire_homes</th>\n",
       "      <th>calculated_host_listings_count_private_rooms</th>\n",
       "      <th>calculated_host_listings_count_shared_rooms</th>\n",
       "      <th>reviews_per_month</th>\n",
       "    </tr>\n",
       "    <tr>\n",
       "      <th>index</th>\n",
       "      <th></th>\n",
       "      <th></th>\n",
       "      <th></th>\n",
       "      <th></th>\n",
       "      <th></th>\n",
       "      <th></th>\n",
       "      <th></th>\n",
       "      <th></th>\n",
       "      <th></th>\n",
       "      <th></th>\n",
       "      <th></th>\n",
       "      <th></th>\n",
       "      <th></th>\n",
       "      <th></th>\n",
       "      <th></th>\n",
       "      <th></th>\n",
       "      <th></th>\n",
       "      <th></th>\n",
       "      <th></th>\n",
       "      <th></th>\n",
       "      <th></th>\n",
       "    </tr>\n",
       "  </thead>\n",
       "  <tbody>\n",
       "    <tr>\n",
       "      <th>0</th>\n",
       "      <td>18666</td>\n",
       "      <td>https://www.airbnb.com/rooms/18666</td>\n",
       "      <td>20190710134514</td>\n",
       "      <td>2019-07-10</td>\n",
       "      <td>Flat with Sunny Terrace</td>\n",
       "      <td>Apartment located near the \"Plaza de las Glori...</td>\n",
       "      <td>Nice apartment situated on the penthouse floor...</td>\n",
       "      <td>Apartment located near the \"Plaza de las Glori...</td>\n",
       "      <td>none</td>\n",
       "      <td>Apartment in Barcelona near to the Plaza de la...</td>\n",
       "      <td>...</td>\n",
       "      <td>f</td>\n",
       "      <td>f</td>\n",
       "      <td>flexible</td>\n",
       "      <td>f</td>\n",
       "      <td>f</td>\n",
       "      <td>31</td>\n",
       "      <td>31</td>\n",
       "      <td>0</td>\n",
       "      <td>0</td>\n",
       "      <td>0.02</td>\n",
       "    </tr>\n",
       "    <tr>\n",
       "      <th>1</th>\n",
       "      <td>18674</td>\n",
       "      <td>https://www.airbnb.com/rooms/18674</td>\n",
       "      <td>20190710134514</td>\n",
       "      <td>2019-07-10</td>\n",
       "      <td>Huge flat for 8 people close to Sagrada Familia</td>\n",
       "      <td>110m2 apartment to rent in Barcelona. Located ...</td>\n",
       "      <td>Apartment with 110 m2 located in the 6th floor...</td>\n",
       "      <td>110m2 apartment to rent in Barcelona. Located ...</td>\n",
       "      <td>none</td>\n",
       "      <td>Apartment in Barcelona located in the heart of...</td>\n",
       "      <td>...</td>\n",
       "      <td>t</td>\n",
       "      <td>f</td>\n",
       "      <td>strict_14_with_grace_period</td>\n",
       "      <td>f</td>\n",
       "      <td>f</td>\n",
       "      <td>31</td>\n",
       "      <td>31</td>\n",
       "      <td>0</td>\n",
       "      <td>0</td>\n",
       "      <td>0.20</td>\n",
       "    </tr>\n",
       "  </tbody>\n",
       "</table>\n",
       "<p>2 rows × 106 columns</p>\n",
       "</div>"
      ],
      "text/plain": [
       "          id                         listing_url       scrape_id last_scraped  \\\n",
       "index                                                                           \n",
       "0      18666  https://www.airbnb.com/rooms/18666  20190710134514   2019-07-10   \n",
       "1      18674  https://www.airbnb.com/rooms/18674  20190710134514   2019-07-10   \n",
       "\n",
       "                                                  name  \\\n",
       "index                                                    \n",
       "0                              Flat with Sunny Terrace   \n",
       "1      Huge flat for 8 people close to Sagrada Familia   \n",
       "\n",
       "                                                 summary  \\\n",
       "index                                                      \n",
       "0      Apartment located near the \"Plaza de las Glori...   \n",
       "1      110m2 apartment to rent in Barcelona. Located ...   \n",
       "\n",
       "                                                   space  \\\n",
       "index                                                      \n",
       "0      Nice apartment situated on the penthouse floor...   \n",
       "1      Apartment with 110 m2 located in the 6th floor...   \n",
       "\n",
       "                                             description experiences_offered  \\\n",
       "index                                                                          \n",
       "0      Apartment located near the \"Plaza de las Glori...                none   \n",
       "1      110m2 apartment to rent in Barcelona. Located ...                none   \n",
       "\n",
       "                                   neighborhood_overview  ...  \\\n",
       "index                                                     ...   \n",
       "0      Apartment in Barcelona near to the Plaza de la...  ...   \n",
       "1      Apartment in Barcelona located in the heart of...  ...   \n",
       "\n",
       "      instant_bookable is_business_travel_ready          cancellation_policy  \\\n",
       "index                                                                          \n",
       "0                    f                        f                     flexible   \n",
       "1                    t                        f  strict_14_with_grace_period   \n",
       "\n",
       "      require_guest_profile_picture require_guest_phone_verification  \\\n",
       "index                                                                  \n",
       "0                                 f                                f   \n",
       "1                                 f                                f   \n",
       "\n",
       "       calculated_host_listings_count  \\\n",
       "index                                   \n",
       "0                                  31   \n",
       "1                                  31   \n",
       "\n",
       "       calculated_host_listings_count_entire_homes  \\\n",
       "index                                                \n",
       "0                                               31   \n",
       "1                                               31   \n",
       "\n",
       "      calculated_host_listings_count_private_rooms  \\\n",
       "index                                                \n",
       "0                                                0   \n",
       "1                                                0   \n",
       "\n",
       "       calculated_host_listings_count_shared_rooms  reviews_per_month  \n",
       "index                                                                  \n",
       "0                                                0               0.02  \n",
       "1                                                0               0.20  \n",
       "\n",
       "[2 rows x 106 columns]"
      ]
     },
     "execution_count": 14,
     "metadata": {},
     "output_type": "execute_result"
    }
   ],
   "source": [
    "df_airbnb['neighbourhood_group_cleansed'] = df_airbnb['neighbourhood_group_cleansed'].map(mapa_districts)\n",
    "df_airbnb.head(2)"
   ]
  },
  {
   "cell_type": "code",
   "execution_count": 15,
   "metadata": {},
   "outputs": [
    {
     "data": {
      "text/plain": [
       "array(['Sant Marti', 'Eixample', 'Gracia', 'Horta-Guinardo', 'Les Corts',\n",
       "       'Ciutat Vella', 'Sants-Montjuic', 'Sarria-Sant Gervasi',\n",
       "       'Nou Barris', 'Sant Andreu'], dtype=object)"
      ]
     },
     "execution_count": 15,
     "metadata": {},
     "output_type": "execute_result"
    }
   ],
   "source": [
    "df_airbnb['neighbourhood_group_cleansed'].unique()"
   ]
  },
  {
   "cell_type": "code",
   "execution_count": 18,
   "metadata": {},
   "outputs": [
    {
     "data": {
      "text/plain": [
       "dtype('O')"
      ]
     },
     "execution_count": 18,
     "metadata": {},
     "output_type": "execute_result"
    }
   ],
   "source": [
    "df_airbnb['neighbourhood_group_cleansed'].dtypes"
   ]
  },
  {
   "cell_type": "code",
   "execution_count": 20,
   "metadata": {},
   "outputs": [
    {
     "data": {
      "text/plain": [
       "array(['Ciutat Vella', 'Eixample', 'Sants-Montjuïc', 'Les Corts',\n",
       "       'Sarrià-Sant Gervasi', 'Gràcia', 'Horta-Guinardó', 'Nou Barris',\n",
       "       'Sant Andreu', 'Sant Martí'], dtype=object)"
      ]
     },
     "execution_count": 20,
     "metadata": {},
     "output_type": "execute_result"
    }
   ],
   "source": [
    "df_rent['District_tildes'] = df_rent['District'].map(diccionario_mapa_reves)\n",
    "df_rent['District_tildes'].unique()"
   ]
  },
  {
   "cell_type": "code",
   "execution_count": 21,
   "metadata": {},
   "outputs": [],
   "source": [
    "df_rent.to_csv('datos/barcelona_rent_tildes.csv')"
   ]
  },
  {
   "cell_type": "code",
   "execution_count": 16,
   "metadata": {},
   "outputs": [],
   "source": [
    "df_airbnb.to_csv('datos/barcelona_airbnb.csv')"
   ]
  }
 ],
 "metadata": {
  "kernelspec": {
   "display_name": "base",
   "language": "python",
   "name": "python3"
  },
  "language_info": {
   "codemirror_mode": {
    "name": "ipython",
    "version": 3
   },
   "file_extension": ".py",
   "mimetype": "text/x-python",
   "name": "python",
   "nbconvert_exporter": "python",
   "pygments_lexer": "ipython3",
   "version": "3.9.7"
  },
  "orig_nbformat": 4
 },
 "nbformat": 4,
 "nbformat_minor": 2
}
