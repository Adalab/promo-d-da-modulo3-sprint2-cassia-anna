{
 "cells": [
  {
   "cell_type": "code",
   "execution_count": 1,
   "metadata": {},
   "outputs": [],
   "source": [
    "import pandas as pd\n"
   ]
  },
  {
   "cell_type": "code",
   "execution_count": 2,
   "metadata": {},
   "outputs": [
    {
     "data": {
      "text/html": [
       "<div>\n",
       "<style scoped>\n",
       "    .dataframe tbody tr th:only-of-type {\n",
       "        vertical-align: middle;\n",
       "    }\n",
       "\n",
       "    .dataframe tbody tr th {\n",
       "        vertical-align: top;\n",
       "    }\n",
       "\n",
       "    .dataframe thead th {\n",
       "        text-align: right;\n",
       "    }\n",
       "</style>\n",
       "<table border=\"1\" class=\"dataframe\">\n",
       "  <thead>\n",
       "    <tr style=\"text-align: right;\">\n",
       "      <th></th>\n",
       "      <th>id</th>\n",
       "      <th>listing_url</th>\n",
       "      <th>scrape_id</th>\n",
       "      <th>last_scraped</th>\n",
       "      <th>name</th>\n",
       "      <th>summary</th>\n",
       "      <th>space</th>\n",
       "      <th>description</th>\n",
       "      <th>experiences_offered</th>\n",
       "      <th>neighborhood_overview</th>\n",
       "      <th>...</th>\n",
       "      <th>instant_bookable</th>\n",
       "      <th>is_business_travel_ready</th>\n",
       "      <th>cancellation_policy</th>\n",
       "      <th>require_guest_profile_picture</th>\n",
       "      <th>require_guest_phone_verification</th>\n",
       "      <th>calculated_host_listings_count</th>\n",
       "      <th>calculated_host_listings_count_entire_homes</th>\n",
       "      <th>calculated_host_listings_count_private_rooms</th>\n",
       "      <th>calculated_host_listings_count_shared_rooms</th>\n",
       "      <th>reviews_per_month</th>\n",
       "    </tr>\n",
       "    <tr>\n",
       "      <th>index</th>\n",
       "      <th></th>\n",
       "      <th></th>\n",
       "      <th></th>\n",
       "      <th></th>\n",
       "      <th></th>\n",
       "      <th></th>\n",
       "      <th></th>\n",
       "      <th></th>\n",
       "      <th></th>\n",
       "      <th></th>\n",
       "      <th></th>\n",
       "      <th></th>\n",
       "      <th></th>\n",
       "      <th></th>\n",
       "      <th></th>\n",
       "      <th></th>\n",
       "      <th></th>\n",
       "      <th></th>\n",
       "      <th></th>\n",
       "      <th></th>\n",
       "      <th></th>\n",
       "    </tr>\n",
       "  </thead>\n",
       "  <tbody>\n",
       "    <tr>\n",
       "      <th>1</th>\n",
       "      <td>18674</td>\n",
       "      <td>https://www.airbnb.com/rooms/18674</td>\n",
       "      <td>2.019070e+13</td>\n",
       "      <td>10/07/2019</td>\n",
       "      <td>Huge flat for 8 people close to Sagrada Familia</td>\n",
       "      <td>110m2 apartment to rent in Barcelona. Located ...</td>\n",
       "      <td>Apartment with 110 m2 located in the 6th floor...</td>\n",
       "      <td>110m2 apartment to rent in Barcelona. Located ...</td>\n",
       "      <td>none</td>\n",
       "      <td>Apartment in Barcelona located in the heart of...</td>\n",
       "      <td>...</td>\n",
       "      <td>t</td>\n",
       "      <td>f</td>\n",
       "      <td>strict_14_with_grace_period</td>\n",
       "      <td>f</td>\n",
       "      <td>f</td>\n",
       "      <td>31</td>\n",
       "      <td>31</td>\n",
       "      <td>0</td>\n",
       "      <td>0</td>\n",
       "      <td>0.20</td>\n",
       "    </tr>\n",
       "    <tr>\n",
       "      <th>3</th>\n",
       "      <td>23197</td>\n",
       "      <td>https://www.airbnb.com/rooms/23197</td>\n",
       "      <td>2.019070e+13</td>\n",
       "      <td>10/07/2019</td>\n",
       "      <td>FORUM DELUXE 5 MINS WALK  CCIB CENTER &amp; SEA!</td>\n",
       "      <td>I do not accept groups of young people under 2...</td>\n",
       "      <td>Elegant spacious apartment suitable for 6. Amp...</td>\n",
       "      <td>I do not accept groups of young people under 2...</td>\n",
       "      <td>none</td>\n",
       "      <td>Strategically located in the area of Parc del ...</td>\n",
       "      <td>...</td>\n",
       "      <td>t</td>\n",
       "      <td>f</td>\n",
       "      <td>strict_14_with_grace_period</td>\n",
       "      <td>f</td>\n",
       "      <td>t</td>\n",
       "      <td>2</td>\n",
       "      <td>2</td>\n",
       "      <td>0</td>\n",
       "      <td>0</td>\n",
       "      <td>0.44</td>\n",
       "    </tr>\n",
       "  </tbody>\n",
       "</table>\n",
       "<p>2 rows × 106 columns</p>\n",
       "</div>"
      ],
      "text/plain": [
       "          id                         listing_url     scrape_id last_scraped  \\\n",
       "index                                                                         \n",
       "1      18674  https://www.airbnb.com/rooms/18674  2.019070e+13   10/07/2019   \n",
       "3      23197  https://www.airbnb.com/rooms/23197  2.019070e+13   10/07/2019   \n",
       "\n",
       "                                                  name  \\\n",
       "index                                                    \n",
       "1      Huge flat for 8 people close to Sagrada Familia   \n",
       "3         FORUM DELUXE 5 MINS WALK  CCIB CENTER & SEA!   \n",
       "\n",
       "                                                 summary  \\\n",
       "index                                                      \n",
       "1      110m2 apartment to rent in Barcelona. Located ...   \n",
       "3      I do not accept groups of young people under 2...   \n",
       "\n",
       "                                                   space  \\\n",
       "index                                                      \n",
       "1      Apartment with 110 m2 located in the 6th floor...   \n",
       "3      Elegant spacious apartment suitable for 6. Amp...   \n",
       "\n",
       "                                             description experiences_offered  \\\n",
       "index                                                                          \n",
       "1      110m2 apartment to rent in Barcelona. Located ...                none   \n",
       "3      I do not accept groups of young people under 2...                none   \n",
       "\n",
       "                                   neighborhood_overview  ...  \\\n",
       "index                                                     ...   \n",
       "1      Apartment in Barcelona located in the heart of...  ...   \n",
       "3      Strategically located in the area of Parc del ...  ...   \n",
       "\n",
       "      instant_bookable is_business_travel_ready          cancellation_policy  \\\n",
       "index                                                                          \n",
       "1                    t                        f  strict_14_with_grace_period   \n",
       "3                    t                        f  strict_14_with_grace_period   \n",
       "\n",
       "      require_guest_profile_picture require_guest_phone_verification  \\\n",
       "index                                                                  \n",
       "1                                 f                                f   \n",
       "3                                 f                                t   \n",
       "\n",
       "       calculated_host_listings_count  \\\n",
       "index                                   \n",
       "1                                  31   \n",
       "3                                   2   \n",
       "\n",
       "       calculated_host_listings_count_entire_homes  \\\n",
       "index                                                \n",
       "1                                               31   \n",
       "3                                                2   \n",
       "\n",
       "      calculated_host_listings_count_private_rooms  \\\n",
       "index                                                \n",
       "1                                                0   \n",
       "3                                                0   \n",
       "\n",
       "       calculated_host_listings_count_shared_rooms  reviews_per_month  \n",
       "index                                                                  \n",
       "1                                                0               0.20  \n",
       "3                                                0               0.44  \n",
       "\n",
       "[2 rows x 106 columns]"
      ]
     },
     "execution_count": 2,
     "metadata": {},
     "output_type": "execute_result"
    }
   ],
   "source": [
    "df_airbnb = pd.read_csv('datos/barcelona_airbnb.csv', index_col=0)\n",
    "df_airbnb.head(2)"
   ]
  },
  {
   "cell_type": "code",
   "execution_count": 3,
   "metadata": {},
   "outputs": [
    {
     "data": {
      "text/plain": [
       "la Dreta de l'Eixample             1235\n",
       "l'Antiga Esquerra de l'Eixample     551\n",
       "la Sagrada Família                  490\n",
       "el Raval                            464\n",
       "la Vila de Gràcia                   452\n",
       "                                   ... \n",
       "les Roquetes                          1\n",
       "el Bon Pastor                         1\n",
       "la Marina del Prat Vermell            1\n",
       "la Prosperitat                        1\n",
       "Montbau                               1\n",
       "Name: neighbourhood_cleansed, Length: 66, dtype: int64"
      ]
     },
     "execution_count": 3,
     "metadata": {},
     "output_type": "execute_result"
    }
   ],
   "source": [
    "df_airbnb['neighbourhood_cleansed'].value_counts()"
   ]
  },
  {
   "cell_type": "code",
   "execution_count": 4,
   "metadata": {},
   "outputs": [
    {
     "data": {
      "text/plain": [
       "Eixample               3151\n",
       "Ciutat Vella           1401\n",
       "Sants-Montjuïc          824\n",
       "Sant Martí              684\n",
       "Gràcia                  652\n",
       "Sarrià-Sant Gervasi     325\n",
       "Les Corts               162\n",
       "Horta-Guinardó          153\n",
       "Sant Andreu              64\n",
       "Nou Barris               21\n",
       "Name: neighbourhood_group_cleansed, dtype: int64"
      ]
     },
     "execution_count": 4,
     "metadata": {},
     "output_type": "execute_result"
    }
   ],
   "source": [
    "df_airbnb['neighbourhood_group_cleansed'].value_counts()"
   ]
  },
  {
   "cell_type": "code",
   "execution_count": 54,
   "metadata": {},
   "outputs": [
    {
     "data": {
      "text/html": [
       "<div>\n",
       "<style scoped>\n",
       "    .dataframe tbody tr th:only-of-type {\n",
       "        vertical-align: middle;\n",
       "    }\n",
       "\n",
       "    .dataframe tbody tr th {\n",
       "        vertical-align: top;\n",
       "    }\n",
       "\n",
       "    .dataframe thead th {\n",
       "        text-align: right;\n",
       "    }\n",
       "</style>\n",
       "<table border=\"1\" class=\"dataframe\">\n",
       "  <thead>\n",
       "    <tr style=\"text-align: right;\">\n",
       "      <th></th>\n",
       "      <th>Trimester</th>\n",
       "      <th>District</th>\n",
       "      <th>Neighbourhood</th>\n",
       "      <th>Average _rent</th>\n",
       "      <th>Price</th>\n",
       "    </tr>\n",
       "    <tr>\n",
       "      <th>Year</th>\n",
       "      <th></th>\n",
       "      <th></th>\n",
       "      <th></th>\n",
       "      <th></th>\n",
       "      <th></th>\n",
       "    </tr>\n",
       "  </thead>\n",
       "  <tbody>\n",
       "    <tr>\n",
       "      <th>2014</th>\n",
       "      <td>1</td>\n",
       "      <td>Ciutat Vella</td>\n",
       "      <td>el Raval</td>\n",
       "      <td>average rent (euro/month)</td>\n",
       "      <td>589.55</td>\n",
       "    </tr>\n",
       "    <tr>\n",
       "      <th>2014</th>\n",
       "      <td>1</td>\n",
       "      <td>Ciutat Vella</td>\n",
       "      <td>Gothic Quarter</td>\n",
       "      <td>average rent (euro/month)</td>\n",
       "      <td>712.79</td>\n",
       "    </tr>\n",
       "  </tbody>\n",
       "</table>\n",
       "</div>"
      ],
      "text/plain": [
       "      Trimester      District   Neighbourhood              Average _rent  \\\n",
       "Year                                                                       \n",
       "2014          1  Ciutat Vella        el Raval  average rent (euro/month)   \n",
       "2014          1  Ciutat Vella  Gothic Quarter  average rent (euro/month)   \n",
       "\n",
       "       Price  \n",
       "Year          \n",
       "2014  589.55  \n",
       "2014  712.79  "
      ]
     },
     "execution_count": 54,
     "metadata": {},
     "output_type": "execute_result"
    }
   ],
   "source": [
    "df_rent = pd.read_csv('datos/Barcelona_rent_price.csv', index_col=0)\n",
    "df_rent.head(2)"
   ]
  },
  {
   "cell_type": "code",
   "execution_count": 10,
   "metadata": {},
   "outputs": [
    {
     "data": {
      "text/plain": [
       "Nou Barris             714\n",
       "Horta-Guinardo         682\n",
       "Sant Marti             680\n",
       "Sants-Montjuic         486\n",
       "Sant Andreu            428\n",
       "Eixample               408\n",
       "Sarria-Sant Gervasi    408\n",
       "Gracia                 340\n",
       "Ciutat Vella           272\n",
       "Les Corts              204\n",
       "Name: District, dtype: int64"
      ]
     },
     "execution_count": 10,
     "metadata": {},
     "output_type": "execute_result"
    }
   ],
   "source": [
    "df_rent['District'].value_counts()"
   ]
  },
  {
   "cell_type": "code",
   "execution_count": 39,
   "metadata": {},
   "outputs": [
    {
     "data": {
      "text/plain": [
       "array(['Ciutat Vella', 'Eixample', 'Sants-Montjuic', 'Les Corts',\n",
       "       'Sarria-Sant Gervasi', 'Gracia', 'Horta-Guinardo', 'Nou Barris',\n",
       "       'Sant Andreu', 'Sant Marti'], dtype=object)"
      ]
     },
     "execution_count": 39,
     "metadata": {},
     "output_type": "execute_result"
    }
   ],
   "source": [
    "lista_districs = df_rent['District'].unique()\n",
    "lista_districs"
   ]
  },
  {
   "cell_type": "code",
   "execution_count": 40,
   "metadata": {},
   "outputs": [
    {
     "data": {
      "text/plain": [
       "{'Ciutat Vella': 'Ciutat Vella',\n",
       " 'Eixample': 'Eixample',\n",
       " 'Sants-Montjuic': 'Sants-Montjuic',\n",
       " 'Les Corts': 'Les Corts',\n",
       " 'Sarria-Sant Gervasi': 'Sarria-Sant Gervasi',\n",
       " 'Gracia': 'Gracia',\n",
       " 'Horta-Guinardo': 'Horta-Guinardo',\n",
       " 'Nou Barris': 'Nou Barris',\n",
       " 'Sant Andreu': 'Sant Andreu',\n",
       " 'Sant Marti': 'Sant Marti'}"
      ]
     },
     "execution_count": 40,
     "metadata": {},
     "output_type": "execute_result"
    }
   ],
   "source": [
    "diccionario_mapa = {}\n",
    "for i in lista_districs:\n",
    "    diccionario_mapa[i] = f'{i}'\n",
    "\n",
    "diccionario_mapa"
   ]
  },
  {
   "cell_type": "code",
   "execution_count": 17,
   "metadata": {},
   "outputs": [
    {
     "data": {
      "text/plain": [
       "array(['Eixample', 'Sant Martí', 'Horta-Guinardó', 'Gràcia',\n",
       "       'Ciutat Vella', 'Sants-Montjuïc', 'Sarrià-Sant Gervasi',\n",
       "       'Les Corts', 'Nou Barris', 'Sant Andreu'], dtype=object)"
      ]
     },
     "execution_count": 17,
     "metadata": {},
     "output_type": "execute_result"
    }
   ],
   "source": [
    "df_airbnb['neighbourhood_group_cleansed'].unique()"
   ]
  },
  {
   "cell_type": "code",
   "execution_count": 41,
   "metadata": {},
   "outputs": [],
   "source": [
    "mapa_districts = {'Ciutat Vella': 'Ciutat Vella',\n",
    "                'Eixample': 'Eixample',\n",
    "                'Sants-Montjuic': 'Sants-Montjuïc',\n",
    "                'Les Corts': 'Les Corts',\n",
    "                'Sarria-Sant Gervasi': 'Sarrià-Sant Gervasi',\n",
    "                'Gracia': 'Gràcia',\n",
    "                'Horta-Guinardo': 'Horta-Guinardó',\n",
    "                'Nou Barris': 'Nou Barris',\n",
    "                'Sant Andreu': 'Sant Andreu',\n",
    "                'Sant Marti': 'Sant Martí'}"
   ]
  },
  {
   "cell_type": "code",
   "execution_count": 55,
   "metadata": {},
   "outputs": [
    {
     "data": {
      "text/plain": [
       "array(['Ciutat Vella', 'Eixample', 'Sants-Montjuïc', 'Les Corts',\n",
       "       'Sarrià-Sant Gervasi', 'Gràcia', 'Horta-Guinardó', 'Nou Barris',\n",
       "       'Sant Andreu', 'Sant Martí'], dtype=object)"
      ]
     },
     "execution_count": 55,
     "metadata": {},
     "output_type": "execute_result"
    }
   ],
   "source": [
    "df_rent['District_tildes'] = df_rent['District'].map(mapa_districts)\n",
    "df_rent['District_tildes'].unique()"
   ]
  },
  {
   "cell_type": "code",
   "execution_count": 7,
   "metadata": {},
   "outputs": [
    {
     "data": {
      "text/plain": [
       "average rent (euro/month)             2311\n",
       "average rent per surface (euro/m2)    2311\n",
       "Name: Average _rent, dtype: int64"
      ]
     },
     "execution_count": 7,
     "metadata": {},
     "output_type": "execute_result"
    }
   ],
   "source": [
    "df_rent['Average _rent'].value_counts()"
   ]
  },
  {
   "cell_type": "code",
   "execution_count": 21,
   "metadata": {},
   "outputs": [
    {
     "data": {
      "text/plain": [
       "array(['la Sagrada Família', 'el Besòs i el Maresme', 'el Baix Guinardó',\n",
       "       \"el Camp d'en Grassot i Gràcia Nova\", 'el Barri Gòtic',\n",
       "       \"l'Antiga Esquerra de l'Eixample\", \"la Dreta de l'Eixample\",\n",
       "       'el Poble Sec', 'Sant Pere, Santa Caterina i la Ribera',\n",
       "       'el Poblenou', 'el Raval', 'la Barceloneta',\n",
       "       'Vallvidrera, el Tibidabo i les Planes',\n",
       "       'Diagonal Mar i el Front Marítim del Poblenou', 'Pedralbes',\n",
       "       'el Fort Pienc', 'la Vila de Gràcia', 'Sant Martí de Provençals',\n",
       "       \"la Nova Esquerra de l'Eixample\", 'Sarrià', 'Sant Antoni',\n",
       "       'la Vila Olímpica del Poblenou',\n",
       "       'el Parc i la Llacuna del Poblenou', 'la Bordeta',\n",
       "       'Sant Gervasi - Galvany', 'Sants', 'Sants - Badal',\n",
       "       'Provençals del Poblenou', 'el Clot', 'el Guinardó',\n",
       "       'la Font de la Guatlla', 'les Corts', \"el Camp de l'Arpa del Clot\",\n",
       "       'Vallcarca i els Penitents', 'la Maternitat i Sant Ramon',\n",
       "       'el Carmel', 'Canyelles', 'Can Baró', 'Hostafrancs',\n",
       "       'Sant Gervasi - la Bonanova', 'el Putxet i el Farró',\n",
       "       'Vilapicina i la Torre Llobeta', 'la Marina de Port', 'Horta',\n",
       "       'la Salut', 'el Congrés i els Indians', 'Ciutat Meridiana',\n",
       "       'el Coll', \"la Font d'en Fargues\", 'Navas', 'la Sagrera', 'Verdun',\n",
       "       \"la Vall d'Hebron\", 'Porta', 'la Teixonera', 'Sant Andreu',\n",
       "       'la Verneda i la Pau', 'Sant Genís dels Agudells',\n",
       "       'les Tres Torres', 'les Roquetes', 'el Bon Pastor',\n",
       "       'la Marina del Prat Vermell', 'la Trinitat Vella',\n",
       "       'el Turó de la Peira', 'la Prosperitat', 'Montbau'], dtype=object)"
      ]
     },
     "execution_count": 21,
     "metadata": {},
     "output_type": "execute_result"
    }
   ],
   "source": [
    "df_airbnb['neighbourhood_cleansed'].unique()"
   ]
  },
  {
   "cell_type": "code",
   "execution_count": 23,
   "metadata": {},
   "outputs": [
    {
     "data": {
      "text/plain": [
       "array(['el Raval', 'Gothic Quarter', 'la Barceloneta',\n",
       "       'Sant Pere, Santa Caterina i la Ribera', 'Fort Pienc',\n",
       "       'Sagrada Familia', \"la Dreta de l'Eixample\",\n",
       "       \"l'Antiga Esquerra de l'Eixample\",\n",
       "       \"la Nova Esquerra de l'Eixample\", 'Sant Antoni', 'el Poble Sec',\n",
       "       'la Marina de Port', 'la Font de la Guatlla', 'Hostafrancs',\n",
       "       'la Bordeta', 'Sants - Badal', 'Sants', 'les Corts',\n",
       "       'la Maternitat i Sant Ramon', 'Pedralbes',\n",
       "       'Vallvidrera, el Tibidabo i les Planes', 'Sarria',\n",
       "       'les Tres Torres', 'Sant Gervasi - la Bonanova',\n",
       "       'Sant Gervasi - Galvany', 'el Putxet i el Farro',\n",
       "       'Vallcarca i els Penitents', 'el Coll', 'la Salut',\n",
       "       'la Vila de Gracia', \"el Camp d'en Grassot i Gracia Nova\",\n",
       "       'el Baix Guinardo', 'Can Baro', 'el Guinardo',\n",
       "       \"la Font d'en Fargues\", 'el Carmel', 'la Teixonera',\n",
       "       'Sant Genis dels Agudells', 'Montbau', \"la Vall d'Hebron\", 'Horta',\n",
       "       'Vilapicina i la Torre Llobeta', 'Porta', 'el Turo de la Peira',\n",
       "       'Can Peguera', 'la Guineueta', 'Canyelles', 'les Roquetes',\n",
       "       'Verdun', 'la Prosperitat', 'la Trinitat Nova', 'Ciutat Meridiana',\n",
       "       'la Trinitat Vella', 'el Bon Pastor', 'Sant Andreu', 'la Sagrera',\n",
       "       'el Congres i els Indians', 'Navas', \"el Camp de l'Arpa del Clot\",\n",
       "       'el Clot', 'el Parc i la Llacuna del Poblenou',\n",
       "       'la Vila Olimpica del Poblenou', 'el Poblenou',\n",
       "       'Diagonal Mar i el Front Maritim del Poblenou',\n",
       "       'el Besos i el Maresme', 'Provencals del Poblenou',\n",
       "       'Sant Marti de Provencals', 'la Verneda i la Pau', 'Torre Baro',\n",
       "       'Baro de Viver', 'la Marina del Prat Vermell', 'Vallbona',\n",
       "       'la Clota', 'la Sagrada Familia', 'Sant Martíide Provencals'],\n",
       "      dtype=object)"
      ]
     },
     "execution_count": 23,
     "metadata": {},
     "output_type": "execute_result"
    }
   ],
   "source": [
    "df_rent['Neighbourhood'].unique()"
   ]
  },
  {
   "cell_type": "code",
   "execution_count": 56,
   "metadata": {},
   "outputs": [],
   "source": [
    "set_airbnb = set(df_airbnb['neighbourhood_cleansed'].unique())\n",
    "set_rent = set(df_rent['Neighbourhood'].unique())"
   ]
  },
  {
   "cell_type": "code",
   "execution_count": 57,
   "metadata": {},
   "outputs": [],
   "source": [
    "diccionario_barrios = {}\n",
    "\n",
    "for i in set_rent.difference(set_airbnb):\n",
    "    diccionario_barrios[i] = f'{i}'"
   ]
  },
  {
   "cell_type": "code",
   "execution_count": 58,
   "metadata": {},
   "outputs": [
    {
     "data": {
      "text/plain": [
       "{'Sagrada Familia': 'Sagrada Familia',\n",
       " 'Can Peguera': 'Can Peguera',\n",
       " 'la Vila de Gracia': 'la Vila de Gracia',\n",
       " 'Sarria': 'Sarria',\n",
       " 'Diagonal Mar i el Front Maritim del Poblenou': 'Diagonal Mar i el Front Maritim del Poblenou',\n",
       " 'la Sagrada Familia': 'la Sagrada Familia',\n",
       " 'la Guineueta': 'la Guineueta',\n",
       " 'Sant Genis dels Agudells': 'Sant Genis dels Agudells',\n",
       " 'la Trinitat Nova': 'la Trinitat Nova',\n",
       " 'el Turo de la Peira': 'el Turo de la Peira',\n",
       " 'Can Baro': 'Can Baro',\n",
       " 'Sant Marti de Provencals': 'Sant Marti de Provencals',\n",
       " 'el Congres i els Indians': 'el Congres i els Indians',\n",
       " 'el Putxet i el Farro': 'el Putxet i el Farro',\n",
       " 'Gothic Quarter': 'Gothic Quarter',\n",
       " \"el Camp d'en Grassot i Gracia Nova\": \"el Camp d'en Grassot i Gracia Nova\",\n",
       " 'el Baix Guinardo': 'el Baix Guinardo',\n",
       " 'el Besos i el Maresme': 'el Besos i el Maresme',\n",
       " 'Baro de Viver': 'Baro de Viver',\n",
       " 'Fort Pienc': 'Fort Pienc',\n",
       " 'Sant Martíide Provencals': 'Sant Martíide Provencals',\n",
       " 'la Clota': 'la Clota',\n",
       " 'la Vila Olimpica del Poblenou': 'la Vila Olimpica del Poblenou',\n",
       " 'Torre Baro': 'Torre Baro',\n",
       " 'el Guinardo': 'el Guinardo',\n",
       " 'Provencals del Poblenou': 'Provencals del Poblenou',\n",
       " 'Vallbona': 'Vallbona',\n",
       " 'Canyelles': 'Canyelles',\n",
       " 'Hostafrancs': 'Hostafrancs',\n",
       " 'la Teixonera': 'la Teixonera',\n",
       " 'la Barceloneta': 'la Barceloneta',\n",
       " 'Sant Andreu': 'Sant Andreu',\n",
       " 'les Roquetes': 'les Roquetes',\n",
       " \"la Vall d'Hebron\": \"la Vall d'Hebron\",\n",
       " 'Sant Antoni': 'Sant Antoni',\n",
       " 'Sants - Badal': 'Sants - Badal',\n",
       " 'la Trinitat Vella': 'la Trinitat Vella',\n",
       " 'les Corts': 'les Corts',\n",
       " \"la Dreta de l'Eixample\": \"la Dreta de l'Eixample\",\n",
       " 'el Poblenou': 'el Poblenou',\n",
       " \"la Font d'en Fargues\": \"la Font d'en Fargues\",\n",
       " 'la Marina del Prat Vermell': 'la Marina del Prat Vermell',\n",
       " 'la Sagrera': 'la Sagrera',\n",
       " 'la Verneda i la Pau': 'la Verneda i la Pau',\n",
       " \"el Camp de l'Arpa del Clot\": \"el Camp de l'Arpa del Clot\",\n",
       " 'el Bon Pastor': 'el Bon Pastor',\n",
       " 'la Maternitat i Sant Ramon': 'la Maternitat i Sant Ramon',\n",
       " 'Montbau': 'Montbau',\n",
       " 'Navas': 'Navas',\n",
       " 'el Raval': 'el Raval',\n",
       " 'la Marina de Port': 'la Marina de Port',\n",
       " 'Vallcarca i els Penitents': 'Vallcarca i els Penitents',\n",
       " 'el Parc i la Llacuna del Poblenou': 'el Parc i la Llacuna del Poblenou',\n",
       " 'Verdun': 'Verdun',\n",
       " 'Porta': 'Porta',\n",
       " \"l'Antiga Esquerra de l'Eixample\": \"l'Antiga Esquerra de l'Eixample\",\n",
       " 'el Poble Sec': 'el Poble Sec',\n",
       " 'Ciutat Meridiana': 'Ciutat Meridiana',\n",
       " 'les Tres Torres': 'les Tres Torres',\n",
       " \"la Nova Esquerra de l'Eixample\": \"la Nova Esquerra de l'Eixample\",\n",
       " 'Sant Pere, Santa Caterina i la Ribera': 'Sant Pere, Santa Caterina i la Ribera',\n",
       " 'la Salut': 'la Salut',\n",
       " 'el Clot': 'el Clot',\n",
       " 'la Font de la Guatlla': 'la Font de la Guatlla',\n",
       " 'Vilapicina i la Torre Llobeta': 'Vilapicina i la Torre Llobeta',\n",
       " 'Sant Gervasi - la Bonanova': 'Sant Gervasi - la Bonanova',\n",
       " 'la Prosperitat': 'la Prosperitat',\n",
       " 'Horta': 'Horta',\n",
       " 'Vallvidrera, el Tibidabo i les Planes': 'Vallvidrera, el Tibidabo i les Planes',\n",
       " 'el Carmel': 'el Carmel',\n",
       " 'Sants': 'Sants',\n",
       " 'el Coll': 'el Coll',\n",
       " 'la Bordeta': 'la Bordeta',\n",
       " 'Sant Gervasi - Galvany': 'Sant Gervasi - Galvany',\n",
       " 'Pedralbes': 'Pedralbes'}"
      ]
     },
     "execution_count": 58,
     "metadata": {},
     "output_type": "execute_result"
    }
   ],
   "source": [
    "\n",
    "for i in set_rent.intersection(set_airbnb):\n",
    "    diccionario_barrios[i] = f'{i}'\n",
    "diccionario_barrios"
   ]
  },
  {
   "cell_type": "code",
   "execution_count": 44,
   "metadata": {},
   "outputs": [
    {
     "data": {
      "text/plain": [
       "{'Can Baró',\n",
       " 'Diagonal Mar i el Front Marítim del Poblenou',\n",
       " 'Provençals del Poblenou',\n",
       " 'Sant Genís dels Agudells',\n",
       " 'Sant Martí de Provençals',\n",
       " 'Sarrià',\n",
       " 'el Baix Guinardó',\n",
       " 'el Barri Gòtic',\n",
       " 'el Besòs i el Maresme',\n",
       " \"el Camp d'en Grassot i Gràcia Nova\",\n",
       " 'el Congrés i els Indians',\n",
       " 'el Fort Pienc',\n",
       " 'el Guinardó',\n",
       " 'el Putxet i el Farró',\n",
       " 'el Turó de la Peira',\n",
       " 'la Sagrada Família',\n",
       " 'la Vila Olímpica del Poblenou',\n",
       " 'la Vila de Gràcia'}"
      ]
     },
     "execution_count": 44,
     "metadata": {},
     "output_type": "execute_result"
    }
   ],
   "source": [
    "set_airbnb.difference(set_rent)"
   ]
  },
  {
   "cell_type": "code",
   "execution_count": 59,
   "metadata": {},
   "outputs": [],
   "source": [
    "mapa_barrios = {'Sagrada Familia': 'la Sagrada Família',\n",
    "                'Can Peguera': 'Can Peguera',\n",
    "                'la Vila de Gracia': 'la Vila de Gràcia',\n",
    "                'Sarria': 'Sarrià',\n",
    "                'Diagonal Mar i el Front Maritim del Poblenou': 'Diagonal Mar i el Front Marítim del Poblenou',\n",
    "                'la Sagrada Familia': 'la Sagrada Família',\n",
    "                'la Guineueta': 'la Guineueta',\n",
    "                'Sant Genis dels Agudells': 'Sant Genís dels Agudells',\n",
    "                'la Trinitat Nova': 'la Trinitat Nova',\n",
    "                'el Turo de la Peira': 'el Turó de la Peira',\n",
    "                'Can Baro': 'Can Baró',\n",
    "                'Sant Marti de Provencals': 'Sant Martí de Provençals',\n",
    "                'el Congres i els Indians': 'el Congrés i els Indians',\n",
    "                'el Putxet i el Farro': 'el Putxet i el Farró',\n",
    "                'Gothic Quarter': 'el Barri Gòtic',\n",
    "                \"el Camp d'en Grassot i Gracia Nova\": \"el Camp d'en Grassot i Gràcia Nova\",\n",
    "                'el Baix Guinardo': 'el Baix Guinardó',\n",
    "                'el Besos i el Maresme': 'el Besòs i el Maresme',\n",
    "                'Baro de Viver': 'Baro de Viver',\n",
    "                'Fort Pienc': 'el Fort Pienc',\n",
    "                'Sant Martíide Provencals': 'Sant Martí de Provençals',\n",
    "                'la Clota': 'la Clota',\n",
    "                'la Vila Olimpica del Poblenou': 'la Vila Olímpica del Poblenou',\n",
    "                'Torre Baro': 'Torre Baro',\n",
    "                'el Guinardo': 'el Guinardó',\n",
    "                'Provencals del Poblenou': 'Provençals del Poblenou',\n",
    "                'Vallbona': 'Vallbona',\n",
    "                'Canyelles': 'Canyelles',\n",
    "                'Hostafrancs': 'Hostafrancs',\n",
    "                'la Teixonera': 'la Teixonera',\n",
    "                'la Barceloneta': 'la Barceloneta',\n",
    "                'Sant Andreu': 'Sant Andreu',\n",
    "                'les Roquetes': 'les Roquetes',\n",
    "                \"la Vall d'Hebron\": \"la Vall d'Hebron\",\n",
    "                'Sant Antoni': 'Sant Antoni',\n",
    "                'Sants - Badal': 'Sants - Badal',\n",
    "                'la Trinitat Vella': 'la Trinitat Vella',\n",
    "                'les Corts': 'les Corts',\n",
    "                \"la Dreta de l'Eixample\": \"la Dreta de l'Eixample\",\n",
    "                'el Poblenou': 'el Poblenou',\n",
    "                \"la Font d'en Fargues\": \"la Font d'en Fargues\",\n",
    "                'la Marina del Prat Vermell': 'la Marina del Prat Vermell',\n",
    "                'la Sagrera': 'la Sagrera',\n",
    "                'la Verneda i la Pau': 'la Verneda i la Pau',\n",
    "                \"el Camp de l'Arpa del Clot\": \"el Camp de l'Arpa del Clot\",\n",
    "                'el Bon Pastor': 'el Bon Pastor',\n",
    "                'la Maternitat i Sant Ramon': 'la Maternitat i Sant Ramon',\n",
    "                'Montbau': 'Montbau',\n",
    "                'Navas': 'Navas',\n",
    "                'el Raval': 'el Raval',\n",
    "                'la Marina de Port': 'la Marina de Port',\n",
    "                'Vallcarca i els Penitents': 'Vallcarca i els Penitents',\n",
    "                'el Parc i la Llacuna del Poblenou': 'el Parc i la Llacuna del Poblenou',\n",
    "                'Verdun': 'Verdun',\n",
    "                'Porta': 'Porta',\n",
    "                \"l'Antiga Esquerra de l'Eixample\": \"l'Antiga Esquerra de l'Eixample\",\n",
    "                'el Poble Sec': 'el Poble Sec',\n",
    "                'Ciutat Meridiana': 'Ciutat Meridiana',\n",
    "                'les Tres Torres': 'les Tres Torres',\n",
    "                \"la Nova Esquerra de l'Eixample\": \"la Nova Esquerra de l'Eixample\",\n",
    "                'Sant Pere, Santa Caterina i la Ribera': 'Sant Pere, Santa Caterina i la Ribera',\n",
    "                'la Salut': 'la Salut',\n",
    "                'el Clot': 'el Clot',\n",
    "                'la Font de la Guatlla': 'la Font de la Guatlla',\n",
    "                'Vilapicina i la Torre Llobeta': 'Vilapicina i la Torre Llobeta',\n",
    "                'Sant Gervasi - la Bonanova': 'Sant Gervasi - la Bonanova',\n",
    "                'la Prosperitat': 'la Prosperitat',\n",
    "                'Horta': 'Horta',\n",
    "                'Vallvidrera, el Tibidabo i les Planes': 'Vallvidrera, el Tibidabo i les Planes',\n",
    "                'el Carmel': 'el Carmel',\n",
    "                'Sants': 'Sants',\n",
    "                'el Coll': 'el Coll',\n",
    "                'la Bordeta': 'la Bordeta',\n",
    "                'Sant Gervasi - Galvany': 'Sant Gervasi - Galvany',\n",
    "                'Pedralbes': 'Pedralbes'}"
   ]
  },
  {
   "cell_type": "code",
   "execution_count": 60,
   "metadata": {},
   "outputs": [],
   "source": [
    "df_rent['Neighbourhood']  = df_rent['Neighbourhood'].map(mapa_barrios)"
   ]
  },
  {
   "cell_type": "code",
   "execution_count": 61,
   "metadata": {},
   "outputs": [
    {
     "data": {
      "text/plain": [
       "array(['el Raval', 'el Barri Gòtic', 'la Barceloneta',\n",
       "       'Sant Pere, Santa Caterina i la Ribera', 'el Fort Pienc',\n",
       "       'la Sagrada Família', \"la Dreta de l'Eixample\",\n",
       "       \"l'Antiga Esquerra de l'Eixample\",\n",
       "       \"la Nova Esquerra de l'Eixample\", 'Sant Antoni', 'el Poble Sec',\n",
       "       'la Marina de Port', 'la Font de la Guatlla', 'Hostafrancs',\n",
       "       'la Bordeta', 'Sants - Badal', 'Sants', 'les Corts',\n",
       "       'la Maternitat i Sant Ramon', 'Pedralbes',\n",
       "       'Vallvidrera, el Tibidabo i les Planes', 'Sarrià',\n",
       "       'les Tres Torres', 'Sant Gervasi - la Bonanova',\n",
       "       'Sant Gervasi - Galvany', 'el Putxet i el Farró',\n",
       "       'Vallcarca i els Penitents', 'el Coll', 'la Salut',\n",
       "       'la Vila de Gràcia', \"el Camp d'en Grassot i Gràcia Nova\",\n",
       "       'el Baix Guinardó', 'Can Baró', 'el Guinardó',\n",
       "       \"la Font d'en Fargues\", 'el Carmel', 'la Teixonera',\n",
       "       'Sant Genís dels Agudells', 'Montbau', \"la Vall d'Hebron\", 'Horta',\n",
       "       'Vilapicina i la Torre Llobeta', 'Porta', 'el Turó de la Peira',\n",
       "       'Can Peguera', 'la Guineueta', 'Canyelles', 'les Roquetes',\n",
       "       'Verdun', 'la Prosperitat', 'la Trinitat Nova', 'Ciutat Meridiana',\n",
       "       'la Trinitat Vella', 'el Bon Pastor', 'Sant Andreu', 'la Sagrera',\n",
       "       'el Congrés i els Indians', 'Navas', \"el Camp de l'Arpa del Clot\",\n",
       "       'el Clot', 'el Parc i la Llacuna del Poblenou',\n",
       "       'la Vila Olímpica del Poblenou', 'el Poblenou',\n",
       "       'Diagonal Mar i el Front Marítim del Poblenou',\n",
       "       'el Besòs i el Maresme', 'Provençals del Poblenou',\n",
       "       'Sant Martí de Provençals', 'la Verneda i la Pau', 'Torre Baro',\n",
       "       'Baro de Viver', 'la Marina del Prat Vermell', 'Vallbona',\n",
       "       'la Clota'], dtype=object)"
      ]
     },
     "execution_count": 61,
     "metadata": {},
     "output_type": "execute_result"
    }
   ],
   "source": [
    "df_rent['Neighbourhood'].unique()"
   ]
  },
  {
   "cell_type": "code",
   "execution_count": 62,
   "metadata": {},
   "outputs": [],
   "source": [
    "set_airbnb = set(df_airbnb['neighbourhood_cleansed'].unique())\n",
    "set_rent = set(df_rent['Neighbourhood'].unique())"
   ]
  },
  {
   "cell_type": "code",
   "execution_count": 63,
   "metadata": {},
   "outputs": [
    {
     "data": {
      "text/plain": [
       "set()"
      ]
     },
     "execution_count": 63,
     "metadata": {},
     "output_type": "execute_result"
    }
   ],
   "source": [
    "set_airbnb.difference(set_rent)"
   ]
  },
  {
   "cell_type": "code",
   "execution_count": 64,
   "metadata": {},
   "outputs": [
    {
     "data": {
      "text/plain": [
       "{'Baro de Viver',\n",
       " 'Can Peguera',\n",
       " 'Torre Baro',\n",
       " 'Vallbona',\n",
       " 'la Clota',\n",
       " 'la Guineueta',\n",
       " 'la Trinitat Nova'}"
      ]
     },
     "execution_count": 64,
     "metadata": {},
     "output_type": "execute_result"
    }
   ],
   "source": [
    "set_rent.difference(set_airbnb)"
   ]
  },
  {
   "cell_type": "code",
   "execution_count": 65,
   "metadata": {},
   "outputs": [
    {
     "data": {
      "text/plain": [
       "array(['la Sagrada Família', 'el Besòs i el Maresme', 'el Baix Guinardó',\n",
       "       \"el Camp d'en Grassot i Gràcia Nova\", 'el Barri Gòtic',\n",
       "       \"l'Antiga Esquerra de l'Eixample\", \"la Dreta de l'Eixample\",\n",
       "       'el Poble Sec', 'Sant Pere, Santa Caterina i la Ribera',\n",
       "       'el Poblenou', 'el Raval', 'la Barceloneta',\n",
       "       'Vallvidrera, el Tibidabo i les Planes',\n",
       "       'Diagonal Mar i el Front Marítim del Poblenou', 'Pedralbes',\n",
       "       'el Fort Pienc', 'la Vila de Gràcia', 'Sant Martí de Provençals',\n",
       "       \"la Nova Esquerra de l'Eixample\", 'Sarrià', 'Sant Antoni',\n",
       "       'la Vila Olímpica del Poblenou',\n",
       "       'el Parc i la Llacuna del Poblenou', 'la Bordeta',\n",
       "       'Sant Gervasi - Galvany', 'Sants', 'Sants - Badal',\n",
       "       'Provençals del Poblenou', 'el Clot', 'el Guinardó',\n",
       "       'la Font de la Guatlla', 'les Corts', \"el Camp de l'Arpa del Clot\",\n",
       "       'Vallcarca i els Penitents', 'la Maternitat i Sant Ramon',\n",
       "       'el Carmel', 'Canyelles', 'Can Baró', 'Hostafrancs',\n",
       "       'Sant Gervasi - la Bonanova', 'el Putxet i el Farró',\n",
       "       'Vilapicina i la Torre Llobeta', 'la Marina de Port', 'Horta',\n",
       "       'la Salut', 'el Congrés i els Indians', 'Ciutat Meridiana',\n",
       "       'el Coll', \"la Font d'en Fargues\", 'Navas', 'la Sagrera', 'Verdun',\n",
       "       \"la Vall d'Hebron\", 'Porta', 'la Teixonera', 'Sant Andreu',\n",
       "       'la Verneda i la Pau', 'Sant Genís dels Agudells',\n",
       "       'les Tres Torres', 'les Roquetes', 'el Bon Pastor',\n",
       "       'la Marina del Prat Vermell', 'la Trinitat Vella',\n",
       "       'el Turó de la Peira', 'la Prosperitat', 'Montbau'], dtype=object)"
      ]
     },
     "execution_count": 65,
     "metadata": {},
     "output_type": "execute_result"
    }
   ],
   "source": [
    "df_airbnb['neighbourhood_cleansed'].unique()"
   ]
  },
  {
   "cell_type": "code",
   "execution_count": 73,
   "metadata": {},
   "outputs": [
    {
     "data": {
      "text/html": [
       "<div>\n",
       "<style scoped>\n",
       "    .dataframe tbody tr th:only-of-type {\n",
       "        vertical-align: middle;\n",
       "    }\n",
       "\n",
       "    .dataframe tbody tr th {\n",
       "        vertical-align: top;\n",
       "    }\n",
       "\n",
       "    .dataframe thead th {\n",
       "        text-align: right;\n",
       "    }\n",
       "</style>\n",
       "<table border=\"1\" class=\"dataframe\">\n",
       "  <thead>\n",
       "    <tr style=\"text-align: right;\">\n",
       "      <th></th>\n",
       "      <th>Year</th>\n",
       "      <th>Trimester</th>\n",
       "      <th>District</th>\n",
       "      <th>Neighbourhood</th>\n",
       "      <th>Average _rent</th>\n",
       "      <th>Price</th>\n",
       "      <th>District_tildes</th>\n",
       "    </tr>\n",
       "  </thead>\n",
       "  <tbody>\n",
       "    <tr>\n",
       "      <th>0</th>\n",
       "      <td>2014</td>\n",
       "      <td>1</td>\n",
       "      <td>Ciutat Vella</td>\n",
       "      <td>el Raval</td>\n",
       "      <td>average rent (euro/month)</td>\n",
       "      <td>589.55</td>\n",
       "      <td>Ciutat Vella</td>\n",
       "    </tr>\n",
       "    <tr>\n",
       "      <th>1</th>\n",
       "      <td>2014</td>\n",
       "      <td>1</td>\n",
       "      <td>Ciutat Vella</td>\n",
       "      <td>el Barri Gòtic</td>\n",
       "      <td>average rent (euro/month)</td>\n",
       "      <td>712.79</td>\n",
       "      <td>Ciutat Vella</td>\n",
       "    </tr>\n",
       "    <tr>\n",
       "      <th>2</th>\n",
       "      <td>2014</td>\n",
       "      <td>1</td>\n",
       "      <td>Ciutat Vella</td>\n",
       "      <td>la Barceloneta</td>\n",
       "      <td>average rent (euro/month)</td>\n",
       "      <td>540.71</td>\n",
       "      <td>Ciutat Vella</td>\n",
       "    </tr>\n",
       "    <tr>\n",
       "      <th>3</th>\n",
       "      <td>2014</td>\n",
       "      <td>1</td>\n",
       "      <td>Ciutat Vella</td>\n",
       "      <td>Sant Pere, Santa Caterina i la Ribera</td>\n",
       "      <td>average rent (euro/month)</td>\n",
       "      <td>673.44</td>\n",
       "      <td>Ciutat Vella</td>\n",
       "    </tr>\n",
       "    <tr>\n",
       "      <th>4</th>\n",
       "      <td>2014</td>\n",
       "      <td>1</td>\n",
       "      <td>Eixample</td>\n",
       "      <td>el Fort Pienc</td>\n",
       "      <td>average rent (euro/month)</td>\n",
       "      <td>736.09</td>\n",
       "      <td>Eixample</td>\n",
       "    </tr>\n",
       "    <tr>\n",
       "      <th>...</th>\n",
       "      <td>...</td>\n",
       "      <td>...</td>\n",
       "      <td>...</td>\n",
       "      <td>...</td>\n",
       "      <td>...</td>\n",
       "      <td>...</td>\n",
       "      <td>...</td>\n",
       "    </tr>\n",
       "    <tr>\n",
       "      <th>4617</th>\n",
       "      <td>2022</td>\n",
       "      <td>2</td>\n",
       "      <td>Sant Marti</td>\n",
       "      <td>Diagonal Mar i el Front Marítim del Poblenou</td>\n",
       "      <td>average rent per surface (euro/m2)</td>\n",
       "      <td>17.50</td>\n",
       "      <td>Sant Martí</td>\n",
       "    </tr>\n",
       "    <tr>\n",
       "      <th>4618</th>\n",
       "      <td>2022</td>\n",
       "      <td>2</td>\n",
       "      <td>Sant Marti</td>\n",
       "      <td>el Besòs i el Maresme</td>\n",
       "      <td>average rent per surface (euro/m2)</td>\n",
       "      <td>12.20</td>\n",
       "      <td>Sant Martí</td>\n",
       "    </tr>\n",
       "    <tr>\n",
       "      <th>4619</th>\n",
       "      <td>2022</td>\n",
       "      <td>2</td>\n",
       "      <td>Sant Marti</td>\n",
       "      <td>Provençals del Poblenou</td>\n",
       "      <td>average rent per surface (euro/m2)</td>\n",
       "      <td>14.60</td>\n",
       "      <td>Sant Martí</td>\n",
       "    </tr>\n",
       "    <tr>\n",
       "      <th>4620</th>\n",
       "      <td>2022</td>\n",
       "      <td>2</td>\n",
       "      <td>Sant Marti</td>\n",
       "      <td>Sant Martí de Provençals</td>\n",
       "      <td>average rent per surface (euro/m2)</td>\n",
       "      <td>11.90</td>\n",
       "      <td>Sant Martí</td>\n",
       "    </tr>\n",
       "    <tr>\n",
       "      <th>4621</th>\n",
       "      <td>2022</td>\n",
       "      <td>2</td>\n",
       "      <td>Sant Marti</td>\n",
       "      <td>la Verneda i la Pau</td>\n",
       "      <td>average rent per surface (euro/m2)</td>\n",
       "      <td>11.40</td>\n",
       "      <td>Sant Martí</td>\n",
       "    </tr>\n",
       "  </tbody>\n",
       "</table>\n",
       "<p>4622 rows × 7 columns</p>\n",
       "</div>"
      ],
      "text/plain": [
       "      Year  Trimester      District  \\\n",
       "0     2014          1  Ciutat Vella   \n",
       "1     2014          1  Ciutat Vella   \n",
       "2     2014          1  Ciutat Vella   \n",
       "3     2014          1  Ciutat Vella   \n",
       "4     2014          1      Eixample   \n",
       "...    ...        ...           ...   \n",
       "4617  2022          2    Sant Marti   \n",
       "4618  2022          2    Sant Marti   \n",
       "4619  2022          2    Sant Marti   \n",
       "4620  2022          2    Sant Marti   \n",
       "4621  2022          2    Sant Marti   \n",
       "\n",
       "                                     Neighbourhood  \\\n",
       "0                                         el Raval   \n",
       "1                                   el Barri Gòtic   \n",
       "2                                   la Barceloneta   \n",
       "3            Sant Pere, Santa Caterina i la Ribera   \n",
       "4                                    el Fort Pienc   \n",
       "...                                            ...   \n",
       "4617  Diagonal Mar i el Front Marítim del Poblenou   \n",
       "4618                         el Besòs i el Maresme   \n",
       "4619                       Provençals del Poblenou   \n",
       "4620                      Sant Martí de Provençals   \n",
       "4621                           la Verneda i la Pau   \n",
       "\n",
       "                           Average _rent   Price District_tildes  \n",
       "0              average rent (euro/month)  589.55    Ciutat Vella  \n",
       "1              average rent (euro/month)  712.79    Ciutat Vella  \n",
       "2              average rent (euro/month)  540.71    Ciutat Vella  \n",
       "3              average rent (euro/month)  673.44    Ciutat Vella  \n",
       "4              average rent (euro/month)  736.09        Eixample  \n",
       "...                                  ...     ...             ...  \n",
       "4617  average rent per surface (euro/m2)   17.50      Sant Martí  \n",
       "4618  average rent per surface (euro/m2)   12.20      Sant Martí  \n",
       "4619  average rent per surface (euro/m2)   14.60      Sant Martí  \n",
       "4620  average rent per surface (euro/m2)   11.90      Sant Martí  \n",
       "4621  average rent per surface (euro/m2)   11.40      Sant Martí  \n",
       "\n",
       "[4622 rows x 7 columns]"
      ]
     },
     "execution_count": 73,
     "metadata": {},
     "output_type": "execute_result"
    }
   ],
   "source": [
    "df_rent"
   ]
  },
  {
   "cell_type": "code",
   "execution_count": 72,
   "metadata": {},
   "outputs": [],
   "source": [
    "df_rent.reset_index(inplace=True)"
   ]
  },
  {
   "cell_type": "code",
   "execution_count": 74,
   "metadata": {},
   "outputs": [],
   "source": [
    "df_rent_m2 = df_rent[df_rent['Average _rent'] == 'average rent per surface (euro/m2)']"
   ]
  },
  {
   "cell_type": "code",
   "execution_count": 75,
   "metadata": {},
   "outputs": [],
   "source": [
    "df_rent_month = df_rent[df_rent['Average _rent'] == 'average rent (euro/month)']"
   ]
  },
  {
   "cell_type": "code",
   "execution_count": 76,
   "metadata": {},
   "outputs": [
    {
     "name": "stderr",
     "output_type": "stream",
     "text": [
      "/tmp/ipykernel_2083/3974513244.py:1: SettingWithCopyWarning: \n",
      "A value is trying to be set on a copy of a slice from a DataFrame\n",
      "\n",
      "See the caveats in the documentation: https://pandas.pydata.org/pandas-docs/stable/user_guide/indexing.html#returning-a-view-versus-a-copy\n",
      "  df_rent_m2.rename(columns = {'Price': 'Av_rent_m2'}, inplace=True)\n"
     ]
    }
   ],
   "source": [
    "df_rent_m2.rename(columns = {'Price': 'Av_rent_m2'}, inplace=True)"
   ]
  },
  {
   "cell_type": "code",
   "execution_count": 77,
   "metadata": {},
   "outputs": [
    {
     "name": "stderr",
     "output_type": "stream",
     "text": [
      "/tmp/ipykernel_2083/1482848644.py:1: SettingWithCopyWarning: \n",
      "A value is trying to be set on a copy of a slice from a DataFrame\n",
      "\n",
      "See the caveats in the documentation: https://pandas.pydata.org/pandas-docs/stable/user_guide/indexing.html#returning-a-view-versus-a-copy\n",
      "  df_rent_month.rename(columns = {'Price': 'Av_monthly_rent'}, inplace=True)\n"
     ]
    }
   ],
   "source": [
    "df_rent_month.rename(columns = {'Price': 'Av_monthly_rent'}, inplace=True)"
   ]
  },
  {
   "cell_type": "code",
   "execution_count": 83,
   "metadata": {},
   "outputs": [],
   "source": [
    "df_rent = pd.merge(left = df_rent_month, right = df_rent_m2, how='left', on = ['Neighbourhood', 'Year', 'Trimester', 'District', 'District_tildes'])"
   ]
  },
  {
   "cell_type": "code",
   "execution_count": 86,
   "metadata": {},
   "outputs": [
    {
     "data": {
      "text/html": [
       "<div>\n",
       "<style scoped>\n",
       "    .dataframe tbody tr th:only-of-type {\n",
       "        vertical-align: middle;\n",
       "    }\n",
       "\n",
       "    .dataframe tbody tr th {\n",
       "        vertical-align: top;\n",
       "    }\n",
       "\n",
       "    .dataframe thead th {\n",
       "        text-align: right;\n",
       "    }\n",
       "</style>\n",
       "<table border=\"1\" class=\"dataframe\">\n",
       "  <thead>\n",
       "    <tr style=\"text-align: right;\">\n",
       "      <th></th>\n",
       "      <th>Year</th>\n",
       "      <th>Trimester</th>\n",
       "      <th>District</th>\n",
       "      <th>Neighbourhood</th>\n",
       "      <th>Av_monthly_rent</th>\n",
       "      <th>District_tildes</th>\n",
       "      <th>Av_rent_m2</th>\n",
       "    </tr>\n",
       "  </thead>\n",
       "  <tbody>\n",
       "    <tr>\n",
       "      <th>0</th>\n",
       "      <td>2014</td>\n",
       "      <td>1</td>\n",
       "      <td>Ciutat Vella</td>\n",
       "      <td>el Raval</td>\n",
       "      <td>589.55</td>\n",
       "      <td>Ciutat Vella</td>\n",
       "      <td>10.76</td>\n",
       "    </tr>\n",
       "    <tr>\n",
       "      <th>1</th>\n",
       "      <td>2014</td>\n",
       "      <td>1</td>\n",
       "      <td>Ciutat Vella</td>\n",
       "      <td>el Barri Gòtic</td>\n",
       "      <td>712.79</td>\n",
       "      <td>Ciutat Vella</td>\n",
       "      <td>10.58</td>\n",
       "    </tr>\n",
       "    <tr>\n",
       "      <th>2</th>\n",
       "      <td>2014</td>\n",
       "      <td>1</td>\n",
       "      <td>Ciutat Vella</td>\n",
       "      <td>la Barceloneta</td>\n",
       "      <td>540.71</td>\n",
       "      <td>Ciutat Vella</td>\n",
       "      <td>14.40</td>\n",
       "    </tr>\n",
       "    <tr>\n",
       "      <th>3</th>\n",
       "      <td>2014</td>\n",
       "      <td>1</td>\n",
       "      <td>Ciutat Vella</td>\n",
       "      <td>Sant Pere, Santa Caterina i la Ribera</td>\n",
       "      <td>673.44</td>\n",
       "      <td>Ciutat Vella</td>\n",
       "      <td>11.01</td>\n",
       "    </tr>\n",
       "    <tr>\n",
       "      <th>4</th>\n",
       "      <td>2014</td>\n",
       "      <td>1</td>\n",
       "      <td>Eixample</td>\n",
       "      <td>el Fort Pienc</td>\n",
       "      <td>736.09</td>\n",
       "      <td>Eixample</td>\n",
       "      <td>10.42</td>\n",
       "    </tr>\n",
       "  </tbody>\n",
       "</table>\n",
       "</div>"
      ],
      "text/plain": [
       "   Year  Trimester      District                          Neighbourhood  \\\n",
       "0  2014          1  Ciutat Vella                               el Raval   \n",
       "1  2014          1  Ciutat Vella                         el Barri Gòtic   \n",
       "2  2014          1  Ciutat Vella                         la Barceloneta   \n",
       "3  2014          1  Ciutat Vella  Sant Pere, Santa Caterina i la Ribera   \n",
       "4  2014          1      Eixample                          el Fort Pienc   \n",
       "\n",
       "   Av_monthly_rent District_tildes  Av_rent_m2  \n",
       "0           589.55    Ciutat Vella       10.76  \n",
       "1           712.79    Ciutat Vella       10.58  \n",
       "2           540.71    Ciutat Vella       14.40  \n",
       "3           673.44    Ciutat Vella       11.01  \n",
       "4           736.09        Eixample       10.42  "
      ]
     },
     "execution_count": 86,
     "metadata": {},
     "output_type": "execute_result"
    }
   ],
   "source": [
    "df_rent.head()"
   ]
  },
  {
   "cell_type": "code",
   "execution_count": 85,
   "metadata": {},
   "outputs": [],
   "source": [
    "df_rent.drop(['Average _rent_x', 'Average _rent_y'], axis=1, inplace=True)"
   ]
  },
  {
   "cell_type": "code",
   "execution_count": 88,
   "metadata": {},
   "outputs": [],
   "source": [
    "df_rent.to_csv('datos/Barcelona_rent_price.csv')"
   ]
  },
  {
   "cell_type": "code",
   "execution_count": null,
   "metadata": {},
   "outputs": [
    {
     "data": {
      "text/html": [
       "<div>\n",
       "<style scoped>\n",
       "    .dataframe tbody tr th:only-of-type {\n",
       "        vertical-align: middle;\n",
       "    }\n",
       "\n",
       "    .dataframe tbody tr th {\n",
       "        vertical-align: top;\n",
       "    }\n",
       "\n",
       "    .dataframe thead th {\n",
       "        text-align: right;\n",
       "    }\n",
       "</style>\n",
       "<table border=\"1\" class=\"dataframe\">\n",
       "  <thead>\n",
       "    <tr style=\"text-align: right;\">\n",
       "      <th></th>\n",
       "      <th>NOM_DISTRICTE</th>\n",
       "      <th>CODI_BARRI</th>\n",
       "      <th>NOM_BARRI</th>\n",
       "    </tr>\n",
       "    <tr>\n",
       "      <th>CODI_DISTRICTE</th>\n",
       "      <th></th>\n",
       "      <th></th>\n",
       "      <th></th>\n",
       "    </tr>\n",
       "  </thead>\n",
       "  <tbody>\n",
       "    <tr>\n",
       "      <th>1</th>\n",
       "      <td>Ciutat Vella</td>\n",
       "      <td>1</td>\n",
       "      <td>el Raval</td>\n",
       "    </tr>\n",
       "    <tr>\n",
       "      <th>1</th>\n",
       "      <td>Ciutat Vella</td>\n",
       "      <td>2</td>\n",
       "      <td>el Barri Gòtic</td>\n",
       "    </tr>\n",
       "    <tr>\n",
       "      <th>1</th>\n",
       "      <td>Ciutat Vella</td>\n",
       "      <td>3</td>\n",
       "      <td>la Barceloneta</td>\n",
       "    </tr>\n",
       "    <tr>\n",
       "      <th>1</th>\n",
       "      <td>Ciutat Vella</td>\n",
       "      <td>4</td>\n",
       "      <td>Sant Pere, Santa Caterina i la Ribera</td>\n",
       "    </tr>\n",
       "    <tr>\n",
       "      <th>2</th>\n",
       "      <td>Eixample</td>\n",
       "      <td>5</td>\n",
       "      <td>el Fort Pienc</td>\n",
       "    </tr>\n",
       "  </tbody>\n",
       "</table>\n",
       "</div>"
      ],
      "text/plain": [
       "               NOM_DISTRICTE  CODI_BARRI  \\\n",
       "CODI_DISTRICTE                             \n",
       "1               Ciutat Vella           1   \n",
       "1               Ciutat Vella           2   \n",
       "1               Ciutat Vella           3   \n",
       "1               Ciutat Vella           4   \n",
       "2                   Eixample           5   \n",
       "\n",
       "                                            NOM_BARRI  \n",
       "CODI_DISTRICTE                                         \n",
       "1                                            el Raval  \n",
       "1                                      el Barri Gòtic  \n",
       "1                                      la Barceloneta  \n",
       "1               Sant Pere, Santa Caterina i la Ribera  \n",
       "2                                       el Fort Pienc  "
      ]
     },
     "execution_count": 13,
     "metadata": {},
     "output_type": "execute_result"
    }
   ],
   "source": [
    "df_districts = pd.read_csv('datos/districtes_i_barris_170705.csv', index_col=0)\n",
    "df_districts.head()"
   ]
  },
  {
   "cell_type": "code",
   "execution_count": null,
   "metadata": {},
   "outputs": [],
   "source": [
    "df_districts.reset_index(inplace=True)"
   ]
  },
  {
   "cell_type": "code",
   "execution_count": null,
   "metadata": {},
   "outputs": [
    {
     "data": {
      "text/plain": [
       "dtype('O')"
      ]
     },
     "execution_count": 21,
     "metadata": {},
     "output_type": "execute_result"
    }
   ],
   "source": [
    "df_districts['CODI_DISTRICTE'].dtypes"
   ]
  },
  {
   "cell_type": "code",
   "execution_count": null,
   "metadata": {},
   "outputs": [],
   "source": [
    "df_districts['CODI_DISTRICTE'] = df_districts['CODI_DISTRICTE'].astype(dtype='object')"
   ]
  },
  {
   "cell_type": "code",
   "execution_count": null,
   "metadata": {},
   "outputs": [],
   "source": [
    "df_districts['CODI_DISTRICTE'] = df_districts['CODI_DISTRICTE'].apply(lambda x: str(x))"
   ]
  },
  {
   "cell_type": "code",
   "execution_count": null,
   "metadata": {},
   "outputs": [
    {
     "data": {
      "text/html": [
       "<div>\n",
       "<style scoped>\n",
       "    .dataframe tbody tr th:only-of-type {\n",
       "        vertical-align: middle;\n",
       "    }\n",
       "\n",
       "    .dataframe tbody tr th {\n",
       "        vertical-align: top;\n",
       "    }\n",
       "\n",
       "    .dataframe thead th {\n",
       "        text-align: right;\n",
       "    }\n",
       "</style>\n",
       "<table border=\"1\" class=\"dataframe\">\n",
       "  <thead>\n",
       "    <tr style=\"text-align: right;\">\n",
       "      <th></th>\n",
       "      <th>CODI_DISTRICTE</th>\n",
       "      <th>NOM_DISTRICTE</th>\n",
       "      <th>CODI_BARRI</th>\n",
       "      <th>NOM_BARRI</th>\n",
       "      <th>Codi_Districte_2</th>\n",
       "    </tr>\n",
       "  </thead>\n",
       "  <tbody>\n",
       "    <tr>\n",
       "      <th>0</th>\n",
       "      <td>1</td>\n",
       "      <td>Ciutat Vella</td>\n",
       "      <td>1</td>\n",
       "      <td>el Raval</td>\n",
       "      <td>01</td>\n",
       "    </tr>\n",
       "    <tr>\n",
       "      <th>1</th>\n",
       "      <td>1</td>\n",
       "      <td>Ciutat Vella</td>\n",
       "      <td>2</td>\n",
       "      <td>el Barri Gòtic</td>\n",
       "      <td>01</td>\n",
       "    </tr>\n",
       "  </tbody>\n",
       "</table>\n",
       "</div>"
      ],
      "text/plain": [
       "  CODI_DISTRICTE NOM_DISTRICTE  CODI_BARRI       NOM_BARRI Codi_Districte_2\n",
       "0              1  Ciutat Vella           1        el Raval               01\n",
       "1              1  Ciutat Vella           2  el Barri Gòtic               01"
      ]
     },
     "execution_count": 24,
     "metadata": {},
     "output_type": "execute_result"
    }
   ],
   "source": [
    "df_districts['Codi_Districte_2'] = '0' + df_districts['CODI_DISTRICTE']\n",
    "\n",
    "df_districts.head(2)"
   ]
  },
  {
   "cell_type": "code",
   "execution_count": null,
   "metadata": {},
   "outputs": [],
   "source": [
    "# df_districts.to_csv('datos/districtes_i_barris_170705.csv')"
   ]
  }
 ],
 "metadata": {
  "kernelspec": {
   "display_name": "base",
   "language": "python",
   "name": "python3"
  },
  "language_info": {
   "codemirror_mode": {
    "name": "ipython",
    "version": 3
   },
   "file_extension": ".py",
   "mimetype": "text/x-python",
   "name": "python",
   "nbconvert_exporter": "python",
   "pygments_lexer": "ipython3",
   "version": "3.9.7"
  },
  "orig_nbformat": 4
 },
 "nbformat": 4,
 "nbformat_minor": 2
}
